{
 "cells": [
  {
   "cell_type": "code",
   "execution_count": 1,
   "metadata": {},
   "outputs": [],
   "source": [
    "import tensorflow as tf\n",
    "import matplotlib.pyplot as plt\n",
    "import numpy as np"
   ]
  },
  {
   "cell_type": "markdown",
   "metadata": {},
   "source": [
    "# Download dataset"
   ]
  },
  {
   "cell_type": "code",
   "execution_count": 2,
   "metadata": {},
   "outputs": [],
   "source": [
    "(X_train, Y_train), (X_val, Y_val) = tf.keras.datasets.boston_housing.load_data()"
   ]
  },
  {
   "cell_type": "code",
   "execution_count": 3,
   "metadata": {},
   "outputs": [
    {
     "data": {
      "text/plain": [
       "(404, 13)"
      ]
     },
     "execution_count": 3,
     "metadata": {},
     "output_type": "execute_result"
    }
   ],
   "source": [
    "X_train.shape"
   ]
  },
  {
   "cell_type": "code",
   "execution_count": 4,
   "metadata": {},
   "outputs": [
    {
     "data": {
      "text/plain": [
       "(102, 13)"
      ]
     },
     "execution_count": 4,
     "metadata": {},
     "output_type": "execute_result"
    }
   ],
   "source": [
    "X_val.shape"
   ]
  },
  {
   "cell_type": "code",
   "execution_count": 5,
   "metadata": {},
   "outputs": [
    {
     "data": {
      "text/plain": [
       "array([  1.23247,   0.     ,   8.14   ,   0.     ,   0.538  ,   6.142  ,\n",
       "        91.7    ,   3.9769 ,   4.     , 307.     ,  21.     , 396.9    ,\n",
       "        18.72   ])"
      ]
     },
     "execution_count": 5,
     "metadata": {},
     "output_type": "execute_result"
    }
   ],
   "source": [
    "X_train[0]"
   ]
  },
  {
   "cell_type": "markdown",
   "metadata": {},
   "source": [
    "# Metric\n",
    "\n",
    "Mean squared error seems to be a good one for this kind of problems"
   ]
  },
  {
   "attachments": {},
   "cell_type": "markdown",
   "metadata": {},
   "source": [
    "# Baseline\n",
    "\n",
    "For this baseline the average could be a good choice"
   ]
  },
  {
   "cell_type": "code",
   "execution_count": 6,
   "metadata": {},
   "outputs": [],
   "source": [
    "average_price = Y_train.mean()\n",
    "error = (np.abs(Y_val-average_price)).mean()"
   ]
  },
  {
   "cell_type": "code",
   "execution_count": 7,
   "metadata": {},
   "outputs": [
    {
     "name": "stdout",
     "output_type": "stream",
     "text": [
      "Average price value: 22.395049504950492\n",
      "Baseline Mean Absoute Error (MAE): 6.533042127742185\n"
     ]
    }
   ],
   "source": [
    "print(\"Average price value:\", average_price)\n",
    "print(\"Baseline Mean Absoute Error (MAE):\", error)"
   ]
  },
  {
   "attachments": {},
   "cell_type": "markdown",
   "metadata": {},
   "source": [
    "# Feature range\n",
    "\n",
    "For the model to learn faster we need to keep each feature whithin the same range. Thus normalizing each one is a good idea. For this task we should substract the mean and divide by the standard deviation. Using only the training data."
   ]
  },
  {
   "cell_type": "code",
   "execution_count": 8,
   "metadata": {},
   "outputs": [],
   "source": [
    "#Calculate by feature axis=0 instead by row axis=1\n",
    "mean_train = X_train.mean(axis=0)\n",
    "std_train = X_train.std(axis=0)"
   ]
  },
  {
   "cell_type": "code",
   "execution_count": 9,
   "metadata": {},
   "outputs": [],
   "source": [
    "X_train_norm = (X_train-mean_train)/std_train\n",
    "X_val_norm = (X_val-mean_train)/std_train"
   ]
  },
  {
   "cell_type": "code",
   "execution_count": 10,
   "metadata": {},
   "outputs": [
    {
     "data": {
      "text/plain": [
       "array([  1.23247,   0.     ,   8.14   ,   0.     ,   0.538  ,   6.142  ,\n",
       "        91.7    ,   3.9769 ,   4.     , 307.     ,  21.     , 396.9    ,\n",
       "        18.72   ])"
      ]
     },
     "execution_count": 10,
     "metadata": {},
     "output_type": "execute_result"
    }
   ],
   "source": [
    "X_train[0]"
   ]
  },
  {
   "cell_type": "code",
   "execution_count": 11,
   "metadata": {},
   "outputs": [
    {
     "data": {
      "text/plain": [
       "array([-0.27224633, -0.48361547, -0.43576161, -0.25683275, -0.1652266 ,\n",
       "       -0.1764426 ,  0.81306188,  0.1166983 , -0.62624905, -0.59517003,\n",
       "        1.14850044,  0.44807713,  0.8252202 ])"
      ]
     },
     "execution_count": 11,
     "metadata": {},
     "output_type": "execute_result"
    }
   ],
   "source": [
    "X_train_norm[0]"
   ]
  },
  {
   "cell_type": "code",
   "execution_count": 12,
   "metadata": {},
   "outputs": [
    {
     "data": {
      "text/plain": [
       "array([ 1.55369355, -0.48361547,  1.0283258 , -0.25683275,  1.03838067,\n",
       "        0.23545815,  1.11048828, -0.93976936,  1.67588577,  1.5652875 ,\n",
       "        0.78447637, -3.48459553,  2.25092074])"
      ]
     },
     "execution_count": 12,
     "metadata": {},
     "output_type": "execute_result"
    }
   ],
   "source": [
    "X_val_norm[0]"
   ]
  },
  {
   "attachments": {},
   "cell_type": "markdown",
   "metadata": {},
   "source": [
    "We only normalize the input value"
   ]
  },
  {
   "attachments": {},
   "cell_type": "markdown",
   "metadata": {},
   "source": [
    "# Model\n",
    "\n",
    "For the model we could try a simple neural network\n",
    "\n",
    "- loss: we can use SquareMeanError loss\n",
    "- metric: Square mean error metric\n",
    "- optimizer: rmsprop"
   ]
  },
  {
   "cell_type": "code",
   "execution_count": 13,
   "metadata": {},
   "outputs": [],
   "source": [
    "def build_model():\n",
    "    X_input = tf.keras.layers.Input(shape=X_train.shape[1])\n",
    "\n",
    "    X = tf.keras.layers.Dense(activation='relu', units=64)(X_input)\n",
    "    X = tf.keras.layers.Dense(activation='relu', units=64)(X)\n",
    "\n",
    "    X_output = tf.keras.layers.Dense(units=1)(X)\n",
    "\n",
    "    return tf.keras.Model(inputs=[X_input], outputs=[X_output])"
   ]
  },
  {
   "cell_type": "code",
   "execution_count": 14,
   "metadata": {},
   "outputs": [
    {
     "name": "stdout",
     "output_type": "stream",
     "text": [
      "Metal device set to: Apple M1 Max\n",
      "\n",
      "systemMemory: 64.00 GB\n",
      "maxCacheSize: 24.00 GB\n",
      "\n"
     ]
    },
    {
     "name": "stderr",
     "output_type": "stream",
     "text": [
      "2023-03-31 22:27:27.217547: I tensorflow/core/common_runtime/pluggable_device/pluggable_device_factory.cc:305] Could not identify NUMA node of platform GPU ID 0, defaulting to 0. Your kernel may not have been built with NUMA support.\n",
      "2023-03-31 22:27:27.217704: I tensorflow/core/common_runtime/pluggable_device/pluggable_device_factory.cc:271] Created TensorFlow device (/job:localhost/replica:0/task:0/device:GPU:0 with 0 MB memory) -> physical PluggableDevice (device: 0, name: METAL, pci bus id: <undefined>)\n"
     ]
    }
   ],
   "source": [
    "model = build_model()"
   ]
  },
  {
   "cell_type": "code",
   "execution_count": 15,
   "metadata": {},
   "outputs": [
    {
     "name": "stdout",
     "output_type": "stream",
     "text": [
      "Model: \"model\"\n",
      "_________________________________________________________________\n",
      " Layer (type)                Output Shape              Param #   \n",
      "=================================================================\n",
      " input_1 (InputLayer)        [(None, 13)]              0         \n",
      "                                                                 \n",
      " dense (Dense)               (None, 64)                896       \n",
      "                                                                 \n",
      " dense_1 (Dense)             (None, 64)                4160      \n",
      "                                                                 \n",
      " dense_2 (Dense)             (None, 1)                 65        \n",
      "                                                                 \n",
      "=================================================================\n",
      "Total params: 5,121\n",
      "Trainable params: 5,121\n",
      "Non-trainable params: 0\n",
      "_________________________________________________________________\n"
     ]
    }
   ],
   "source": [
    "model.summary()"
   ]
  },
  {
   "cell_type": "markdown",
   "metadata": {},
   "source": [
    "# Compile the model"
   ]
  },
  {
   "cell_type": "code",
   "execution_count": 16,
   "metadata": {},
   "outputs": [
    {
     "name": "stderr",
     "output_type": "stream",
     "text": [
      "/Users/matiasgonzalez/miniforge3/envs/tf_2_9_metal_0_5_keras/lib/python3.10/site-packages/keras/optimizers/optimizer_v2/rmsprop.py:135: UserWarning: The `lr` argument is deprecated, use `learning_rate` instead.\n",
      "  super(RMSprop, self).__init__(name, **kwargs)\n"
     ]
    }
   ],
   "source": [
    "model.compile(loss=\"MSE\", \n",
    "              metrics=[\"MAE\"],\n",
    "              optimizer=tf.keras.optimizers.RMSprop(lr=1e-3)\n",
    "            )"
   ]
  },
  {
   "cell_type": "code",
   "execution_count": 17,
   "metadata": {},
   "outputs": [],
   "source": [
    "EPOCS = 500"
   ]
  },
  {
   "cell_type": "code",
   "execution_count": 18,
   "metadata": {},
   "outputs": [
    {
     "name": "stderr",
     "output_type": "stream",
     "text": [
      "2023-03-31 22:27:27.444199: W tensorflow/core/platform/profile_utils/cpu_utils.cc:128] Failed to get CPU frequency: 0 Hz\n",
      "2023-03-31 22:27:27.606991: I tensorflow/core/grappler/optimizers/custom_graph_optimizer_registry.cc:113] Plugin optimizer for device_type GPU is enabled.\n",
      "2023-03-31 22:27:28.000200: I tensorflow/core/grappler/optimizers/custom_graph_optimizer_registry.cc:113] Plugin optimizer for device_type GPU is enabled.\n"
     ]
    }
   ],
   "source": [
    "history = model.fit(X_train_norm, Y_train, epochs=EPOCS, batch_size=64, validation_data=(X_val_norm, Y_val), verbose=0)"
   ]
  },
  {
   "cell_type": "code",
   "execution_count": 19,
   "metadata": {},
   "outputs": [],
   "source": [
    "def plot_loss_curves(history, epochs=30):\n",
    "    epochs = range(1, epochs+1)\n",
    "    train_loss = history.history[\"loss\"]\n",
    "    val_loss = history.history[\"val_loss\"]\n",
    "\n",
    "    plt.plot(train_loss, \"r\", label=\"train loss\")\n",
    "    plt.plot(val_loss, \"b\", label=\"val_loss\")\n",
    "\n",
    "    plt.title(\"Train vs Val Losses\")\n",
    "\n",
    "    plt.xlabel(\"Epochs\")\n",
    "    plt.ylabel(\"Loss\")\n",
    "\n",
    "    plt.legend()\n",
    "    plt.show()"
   ]
  },
  {
   "cell_type": "code",
   "execution_count": 20,
   "metadata": {},
   "outputs": [
    {
     "data": {
      "image/png": "[encoded data removed]",
      "text/plain": [
       "<Figure size 640x480 with 1 Axes>"
      ]
     },
     "metadata": {},
     "output_type": "display_data"
    }
   ],
   "source": [
    "plot_loss_curves(history=history, epochs=EPOCS)"
   ]
  },
  {
   "attachments": {},
   "cell_type": "markdown",
   "metadata": {},
   "source": [
    "With 30 epochs is not able to beat the baseline with 1 one layer 32 units the same with 3 layers\n",
    "\n",
    "Still the model can't beat the baseline error with -3^-16 which is almost zero. It seems to be a bias problem.\n",
    "\n",
    "## Observation:\n",
    "\n",
    "The fluctiation is noticiable in the val set that is because it's only 101 samples training data is also small the validation set is not diverse enough to be stable"
   ]
  },
  {
   "attachments": {},
   "cell_type": "markdown",
   "metadata": {},
   "source": [
    "# K-folds\n",
    "\n",
    "Training using K-folds help us to avoid this problem and thus evaluating a model become esier."
   ]
  },
  {
   "cell_type": "code",
   "execution_count": 21,
   "metadata": {},
   "outputs": [],
   "source": [
    "from tqdm.auto import tqdm\n",
    "import numpy as np"
   ]
  },
  {
   "attachments": {},
   "cell_type": "markdown",
   "metadata": {},
   "source": [
    "# K-Folds with K=4\n",
    "\n",
    "## i will go from 0 to K-1 in this manner:\n",
    "- fold 1 {0}[val]{1}[train]{2}[train]{3}[train]{4}\n",
    "```First when i == 0 the range for validation is from 0 to 1. This is the offset by the number of elements in each slot.```\n",
    "```First when i == 0 the range for train is from 1 to the end of the sequence. There is no lower limit this time.```\n",
    "- fold 2 {0}[train]{1}[val]{2}[train]{3}[train]{4}\n",
    "```First when i == 1 the range for validation is from 1 to 2. This is the offset by the number of elements in each slot.```\n",
    "```First when i == 1 the range for train is divided in 2 parts this time first from 0 to 1 and the second from 2 to the end of the sequence.```\n",
    "- fold 3 {0}[train]{1}[train]{2}[val]{3}[train]{4}\n",
    "```First when i == 2 the range for validation is from 2 to 3. This is the offset by the number of elements in each slot.```\n",
    "```First when i == 2 the range for train is divided in 2 parts this time first from 0 to 2 and the second from 3 to the end of the sequence.```\n",
    "- fold 4 {0}[train]{1}[train]{2}[train]{3}[val]{4}\n",
    "```First when i == 3 the range for validation is from 3 to 4. This is the offset by the number of elements in each slot.```\n",
    "```First when i == 3 the range for train will not be divided in 2 parts this time, we only have 1 big block compose of 3 training blocks that goes from 3 up to the very begining of the set.```"
   ]
  },
  {
   "cell_type": "code",
   "execution_count": 22,
   "metadata": {},
   "outputs": [
    {
     "data": {
      "application/vnd.jupyter.widget-view+json": {
       "model_id": "6c2136cd11b44e6ea429c871ac99f475",
       "version_major": 2,
       "version_minor": 0
      },
      "text/plain": [
       "  0%|          | 0/4 [00:00<?, ?it/s]"
      ]
     },
     "metadata": {},
     "output_type": "display_data"
    },
    {
     "name": "stderr",
     "output_type": "stream",
     "text": [
      "/Users/matiasgonzalez/miniforge3/envs/tf_2_9_metal_0_5_keras/lib/python3.10/site-packages/keras/optimizers/optimizer_v2/rmsprop.py:135: UserWarning: The `lr` argument is deprecated, use `learning_rate` instead.\n",
      "  super(RMSprop, self).__init__(name, **kwargs)\n",
      "2023-03-31 22:27:58.854370: I tensorflow/core/grappler/optimizers/custom_graph_optimizer_registry.cc:113] Plugin optimizer for device_type GPU is enabled.\n",
      "2023-03-31 22:27:59.243043: I tensorflow/core/grappler/optimizers/custom_graph_optimizer_registry.cc:113] Plugin optimizer for device_type GPU is enabled.\n"
     ]
    },
    {
     "name": "stdout",
     "output_type": "stream",
     "text": [
      "4/4 [==============================] - 0s 4ms/step - loss: 10.0593 - MAE: 2.2619\n",
      "4/4 [==============================] - 0s 4ms/step - loss: 10.0593 - MAE: 2.2619\n",
      "VAL MAE  fold 1 value: 2.2619235515594482\n",
      "4/4 [==============================] - 0s 11ms/step - loss: 16.8873 - MAE: 2.6136\n",
      "TEST MAE fold 1 value: 2.61358380317688\n"
     ]
    },
    {
     "name": "stderr",
     "output_type": "stream",
     "text": [
      "2023-03-31 22:29:08.029539: I tensorflow/core/grappler/optimizers/custom_graph_optimizer_registry.cc:113] Plugin optimizer for device_type GPU is enabled.\n",
      "2023-03-31 22:29:08.387992: I tensorflow/core/grappler/optimizers/custom_graph_optimizer_registry.cc:113] Plugin optimizer for device_type GPU is enabled.\n"
     ]
    },
    {
     "name": "stdout",
     "output_type": "stream",
     "text": [
      "4/4 [==============================] - 0s 4ms/step - loss: 15.3937 - MAE: 2.7223\n",
      "4/4 [==============================] - 0s 5ms/step - loss: 15.3937 - MAE: 2.7223\n",
      "VAL MAE  fold 2 value: 2.722327470779419\n",
      "4/4 [==============================] - 0s 11ms/step - loss: 13.3857 - MAE: 2.6669\n",
      "TEST MAE fold 2 value: 2.6669106483459473\n"
     ]
    },
    {
     "name": "stderr",
     "output_type": "stream",
     "text": [
      "2023-03-31 22:30:18.427897: I tensorflow/core/grappler/optimizers/custom_graph_optimizer_registry.cc:113] Plugin optimizer for device_type GPU is enabled.\n",
      "2023-03-31 22:30:18.817534: I tensorflow/core/grappler/optimizers/custom_graph_optimizer_registry.cc:113] Plugin optimizer for device_type GPU is enabled.\n"
     ]
    },
    {
     "name": "stdout",
     "output_type": "stream",
     "text": [
      "4/4 [==============================] - 0s 5ms/step - loss: 16.0141 - MAE: 2.7676\n",
      "4/4 [==============================] - 0s 5ms/step - loss: 16.0141 - MAE: 2.7676\n",
      "VAL MAE  fold 3 value: 2.7676305770874023\n",
      "4/4 [==============================] - 0s 10ms/step - loss: 15.4922 - MAE: 2.5833\n",
      "TEST MAE fold 3 value: 2.5833117961883545\n"
     ]
    },
    {
     "name": "stderr",
     "output_type": "stream",
     "text": [
      "2023-03-31 22:31:28.521288: I tensorflow/core/grappler/optimizers/custom_graph_optimizer_registry.cc:113] Plugin optimizer for device_type GPU is enabled.\n",
      "2023-03-31 22:31:28.921199: I tensorflow/core/grappler/optimizers/custom_graph_optimizer_registry.cc:113] Plugin optimizer for device_type GPU is enabled.\n"
     ]
    },
    {
     "name": "stdout",
     "output_type": "stream",
     "text": [
      "4/4 [==============================] - 0s 4ms/step - loss: 12.8590 - MAE: 2.4546\n",
      "4/4 [==============================] - 0s 5ms/step - loss: 12.8590 - MAE: 2.4546\n",
      "VAL MAE  fold 4 value: 2.4546003341674805\n",
      "4/4 [==============================] - 0s 11ms/step - loss: 18.5519 - MAE: 2.8232\n",
      "TEST MAE fold 4 value: 2.8231663703918457\n",
      "metric avg loss value mean: 2.5516204833984375 in 4 folds\n"
     ]
    }
   ],
   "source": [
    "K = 4\n",
    "num_val_samples = X_train_norm.shape[0]//K\n",
    "history_fold = []\n",
    "evaluated_metrics_fold = []\n",
    "\n",
    "for i in tqdm(range(K)):\n",
    "    val_data_segment = X_train_norm[i*num_val_samples:(i+1)*num_val_samples]\n",
    "    # When i == 0 is the first block\n",
    "    # When i == K-1 this is the last block\n",
    "    val_label_segment = Y_train[i*num_val_samples:(i+1)*num_val_samples]\n",
    "\n",
    "    train_data_segment = np.concatenate([\n",
    "        X_train_norm[:i*num_val_samples],\n",
    "        #When i == 0 this is empty.\n",
    "        #When i == K-1 this is all the blocks from the begining up to the begining of the last one\n",
    "        X_train_norm[(i+1)*num_val_samples:]\n",
    "        #When i == 0 is from the end of the first block up to the end.\n",
    "        #When i == K-1 this is empty\n",
    "    ], axis=0)\n",
    "\n",
    "    train_label_segment = np.concatenate([\n",
    "        Y_train[:i*num_val_samples],\n",
    "        Y_train[(i+1)*num_val_samples:]\n",
    "    ], axis=0)\n",
    "\n",
    "    model = build_model()\n",
    "    model.compile(loss=\"MSE\", \n",
    "                metrics=[\"MAE\"],\n",
    "                optimizer=tf.keras.optimizers.RMSprop(lr=1e-3)\n",
    "    )\n",
    "\n",
    "    history = model.fit(train_data_segment, train_label_segment,\n",
    "                        epochs=EPOCS,\n",
    "                        batch_size=16,\n",
    "                        validation_data=(val_data_segment, val_label_segment),\n",
    "                        verbose=0\n",
    "    )\n",
    "\n",
    "    history_fold.append(history.history[\"val_loss\"])\n",
    "\n",
    "    # Returns the loss value & metrics values for the model in test mode.\n",
    "    evaluated_metrics_fold.append(model.evaluate(val_data_segment, val_label_segment)[1])\n",
    "\n",
    "    print(f\"VAL MAE  fold {i+1} value: {model.evaluate(val_data_segment, val_label_segment)[1]}\")\n",
    "    print(f\"TEST MAE fold {i+1} value: {model.evaluate(X_val_norm, Y_val)[1]}\")\n",
    "\n",
    "print(f\"metric avg loss value mean: {np.array(evaluated_metrics_fold).mean()} in {K} folds\")"
   ]
  },
  {
   "attachments": {},
   "cell_type": "markdown",
   "metadata": {},
   "source": [
    "# Conclusion\n",
    "Our baseline was 6.599, using a 4-fold approach we got a MAE of 2.5 which is quite an improvement over the baseline of more than 2 times better\n",
    "\n",
    "# Considerations\n",
    "- The training set is quite small if we split it into training and validation, we will have a lot of variation every epoch when we evaluate the model against that small sample. In a way to solve this issue K-folds technique is the way to go at the end we do the average of the measures from each fold ending with a better approximation of how the mode performs on unseen data. At least we get a better sampling representation by doing that.\n",
    "- The last layer does not have an activation function this is normal for this kind of problems scalar regression. In this way the model is free and not limit by the output of another function.\n",
    "- When dealing with continues values data it is important to sacale the values that will make it easier for the model. By a different dispersion the model will need to adjust the weights more radical."
   ]
  }
 ],
 "metadata": {
  "kernelspec": {
   "display_name": "tf_2_9_metal_0_5_keras",
   "language": "python",
   "name": "python3"
  },
  "language_info": {
   "codemirror_mode": {
    "name": "ipython",
    "version": 3
   },
   "file_extension": ".py",
   "mimetype": "text/x-python",
   "name": "python",
   "nbconvert_exporter": "python",
   "pygments_lexer": "ipython3",
   "version": "3.10.8"
  },
  "orig_nbformat": 4
 },
 "nbformat": 4,
 "nbformat_minor": 2
}
